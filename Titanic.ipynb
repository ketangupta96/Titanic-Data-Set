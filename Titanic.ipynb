{
 "cells": [
  {
   "cell_type": "code",
   "execution_count": 1,
   "metadata": {
    "collapsed": false
   },
   "outputs": [
    {
     "name": "stdout",
     "output_type": "stream",
     "text": [
      "Populating the interactive namespace from numpy and matplotlib\n"
     ]
    }
   ],
   "source": [
    "import pandas as pd\n",
    "import numpy as np\n",
    "import matplotlib.pyplot as plt\n",
    "import seaborn as sns\n",
    "%pylab inline"
   ]
  },
  {
   "cell_type": "code",
   "execution_count": 2,
   "metadata": {
    "collapsed": false
   },
   "outputs": [],
   "source": [
    "titanic = pd.read_csv(\"D:\\Titanic.csv\")"
   ]
  },
  {
   "cell_type": "code",
   "execution_count": 3,
   "metadata": {
    "collapsed": true
   },
   "outputs": [],
   "source": [
    "# using titanic dataframe to make a list, where each list item is a dictionary, which represents a row, \n",
    "# with keys as columns heads, and values as items.\n",
    "titanic_list = titanic.to_dict('records')"
   ]
  },
  {
   "cell_type": "code",
   "execution_count": 4,
   "metadata": {
    "collapsed": false
   },
   "outputs": [
    {
     "data": {
      "text/plain": [
       "342"
      ]
     },
     "execution_count": 4,
     "metadata": {},
     "output_type": "execute_result"
    }
   ],
   "source": [
    "# number of people that survived the wreck\n",
    "int(titanic.Survived.sum())"
   ]
  },
  {
   "cell_type": "code",
   "execution_count": 5,
   "metadata": {
    "collapsed": true
   },
   "outputs": [],
   "source": [
    "# Takes a string which is either an empty string or represents an integer/float,\n",
    "# and returns an int/float or None.\n",
    "def parse_float(i):\n",
    "    if i == '':\n",
    "        return None\n",
    "    else:\n",
    "        return float(i)\n",
    "    \n",
    "def parse_int(i):\n",
    "    if i == '':\n",
    "        return None\n",
    "    else:\n",
    "        return int(i)"
   ]
  },
  {
   "cell_type": "code",
   "execution_count": 6,
   "metadata": {
    "collapsed": true
   },
   "outputs": [],
   "source": [
    "#convert str type values in titanic_list to int/float type\n",
    "for dic in titanic_list:\n",
    "    dic['Parch'] = parse_int(dic['Parch'])\n",
    "    dic['PassengerId'] = parse_int(dic['PassengerId'])\n",
    "    dic['SibSp'] = parse_int(dic['SibSp'])\n",
    "    dic['Survived'] = parse_int(dic['Survived'])\n",
    "    dic['Pclass'] = parse_int(dic['Pclass'])"
   ]
  },
  {
   "cell_type": "markdown",
   "metadata": {},
   "source": [
    "## Comparison of Survival of Males vs Females"
   ]
  },
  {
   "cell_type": "code",
   "execution_count": 7,
   "metadata": {
    "collapsed": false
   },
   "outputs": [
    {
     "name": "stdout",
     "output_type": "stream",
     "text": [
      "577\n",
      "314\n"
     ]
    }
   ],
   "source": [
    "# finding out number of males and females\n",
    "print titanic.Sex.tolist().count('male')\n",
    "print titanic.Sex.tolist().count('female')"
   ]
  },
  {
   "cell_type": "code",
   "execution_count": 8,
   "metadata": {
    "collapsed": false
   },
   "outputs": [
    {
     "data": {
      "text/plain": [
       "(array([0, 1]), <a list of 2 Text xticklabel objects>)"
      ]
     },
     "execution_count": 8,
     "metadata": {},
     "output_type": "execute_result"
    },
    {
     "data": {
      "image/png": "[encoded data removed]",
      "text/plain": [
       "<matplotlib.figure.Figure at 0x3d1ecf8>"
      ]
     },
     "metadata": {},
     "output_type": "display_data"
    }
   ],
   "source": [
    "df = titanic.groupby('Sex').sum()\n",
    "df_bar = df['Survived'].plot(kind = 'bar', color = (1, 0.5, 0.8), title = 'Survival of Males vs. Females')\n",
    "plt.xlabel('Sex'); plt.ylabel('No. of People')\n",
    "for p in df_bar.patches:\n",
    "    height = p.get_height()\n",
    "    df_bar.text(p.get_x()+p.get_width()/2, round(height, 1), 1*height, ha = 'center', va = 'bottom')\n",
    "plt.xticks(rotation = 0)"
   ]
  },
  {
   "cell_type": "code",
   "execution_count": 9,
   "metadata": {
    "collapsed": false
   },
   "outputs": [
    {
     "data": {
      "text/html": [
       "<div>\n",
       "<table border=\"1\" class=\"dataframe\">\n",
       "  <thead>\n",
       "    <tr style=\"text-align: right;\">\n",
       "      <th></th>\n",
       "      <th>Number of People</th>\n",
       "      <th>Survived</th>\n",
       "      <th>Proportion Survived</th>\n",
       "    </tr>\n",
       "    <tr>\n",
       "      <th>Sex</th>\n",
       "      <th></th>\n",
       "      <th></th>\n",
       "      <th></th>\n",
       "    </tr>\n",
       "  </thead>\n",
       "  <tbody>\n",
       "    <tr>\n",
       "      <th>female</th>\n",
       "      <td>314</td>\n",
       "      <td>233</td>\n",
       "      <td>0.74</td>\n",
       "    </tr>\n",
       "    <tr>\n",
       "      <th>male</th>\n",
       "      <td>577</td>\n",
       "      <td>109</td>\n",
       "      <td>0.19</td>\n",
       "    </tr>\n",
       "  </tbody>\n",
       "</table>\n",
       "</div>"
      ],
      "text/plain": [
       "        Number of People  Survived  Proportion Survived\n",
       "Sex                                                    \n",
       "female               314       233                 0.74\n",
       "male                 577       109                 0.19"
      ]
     },
     "execution_count": 9,
     "metadata": {},
     "output_type": "execute_result"
    }
   ],
   "source": [
    "df = df[df.columns.difference(['PassengerId', 'Pclass', 'SibSp', 'Parch', 'Fare', 'Age'])]\n",
    "df['Number of People'] = [titanic.Sex.tolist().count('female'), titanic.Sex.tolist().count('male')]\n",
    "df['Proportion Survived'] = df['Survived']/df['Number of People']\n",
    "df = pd.DataFrame(df.round(2))\n",
    "df = df[['Number of People', 'Survived', 'Proportion Survived']]\n",
    "df"
   ]
  },
  {
   "cell_type": "markdown",
   "metadata": {},
   "source": [
    "## Survival on basis of PClass"
   ]
  },
  {
   "cell_type": "code",
   "execution_count": 10,
   "metadata": {
    "collapsed": false
   },
   "outputs": [
    {
     "data": {
      "text/html": [
       "<div>\n",
       "<table border=\"1\" class=\"dataframe\">\n",
       "  <thead>\n",
       "    <tr style=\"text-align: right;\">\n",
       "      <th></th>\n",
       "      <th>Survived</th>\n",
       "      <th>Died</th>\n",
       "      <th>Total</th>\n",
       "      <th>Proportion Survived</th>\n",
       "    </tr>\n",
       "    <tr>\n",
       "      <th>Pclass</th>\n",
       "      <th></th>\n",
       "      <th></th>\n",
       "      <th></th>\n",
       "      <th></th>\n",
       "    </tr>\n",
       "  </thead>\n",
       "  <tbody>\n",
       "    <tr>\n",
       "      <th>1</th>\n",
       "      <td>136</td>\n",
       "      <td>80</td>\n",
       "      <td>216</td>\n",
       "      <td>0.63</td>\n",
       "    </tr>\n",
       "    <tr>\n",
       "      <th>2</th>\n",
       "      <td>87</td>\n",
       "      <td>97</td>\n",
       "      <td>184</td>\n",
       "      <td>0.47</td>\n",
       "    </tr>\n",
       "    <tr>\n",
       "      <th>3</th>\n",
       "      <td>119</td>\n",
       "      <td>372</td>\n",
       "      <td>491</td>\n",
       "      <td>0.24</td>\n",
       "    </tr>\n",
       "  </tbody>\n",
       "</table>\n",
       "</div>"
      ],
      "text/plain": [
       "        Survived  Died  Total  Proportion Survived\n",
       "Pclass                                            \n",
       "1            136    80    216                 0.63\n",
       "2             87    97    184                 0.47\n",
       "3            119   372    491                 0.24"
      ]
     },
     "execution_count": 10,
     "metadata": {},
     "output_type": "execute_result"
    }
   ],
   "source": [
    "pclass_wise = titanic.groupby('Pclass').sum()\n",
    "pclass_wise = pclass_wise[pclass_wise.columns.difference(['PassengerId', 'Age', 'SibSp', 'Parch', 'Fare'])]\n",
    "pclass_wise['Total'] = [titanic.Pclass.tolist().count(1), titanic.Pclass.tolist().count(2), titanic.Pclass.tolist().count(3)]\n",
    "pclass_wise['Proportion Survived'] = pclass_wise['Survived']/pclass_wise['Total']\n",
    "pclass_wise = pd.DataFrame(pclass_wise.round(2))\n",
    "pclass_wise['Died'] = pclass_wise['Total'] - pclass_wise['Survived']\n",
    "pclass_wise = pclass_wise[['Survived', 'Died', 'Total', 'Proportion Survived']]\n",
    "pclass_wise"
   ]
  },
  {
   "cell_type": "code",
   "execution_count": 11,
   "metadata": {
    "collapsed": false
   },
   "outputs": [
    {
     "data": {
      "text/plain": [
       "<matplotlib.text.Text at 0x9f1c240>"
      ]
     },
     "execution_count": 11,
     "metadata": {},
     "output_type": "execute_result"
    },
    {
     "data": {
      "image/png": "[encoded data removed]",
      "text/plain": [
       "<matplotlib.figure.Figure at 0x9c47f28>"
      ]
     },
     "metadata": {},
     "output_type": "display_data"
    }
   ],
   "source": [
    "pclass_wise[['Survived', 'Died']].plot(kind = 'bar', stacked = True, legend = True)\n",
    "plt.xticks(rotation = 0)\n",
    "plt.title('Number of Deaths vs. Survival')"
   ]
  },
  {
   "cell_type": "markdown",
   "metadata": {},
   "source": [
    "## Survival on basis of Age"
   ]
  },
  {
   "cell_type": "code",
   "execution_count": 12,
   "metadata": {
    "collapsed": false
   },
   "outputs": [
    {
     "data": {
      "text/plain": [
       "177"
      ]
     },
     "execution_count": 12,
     "metadata": {},
     "output_type": "execute_result"
    }
   ],
   "source": [
    "# calculate the numbe of people whose ages are missing.\n",
    "f = titanic.sort_values(by = 'Age', ascending = True)\n",
    "f['Age'].isnull().sum()"
   ]
  },
  {
   "cell_type": "code",
   "execution_count": 13,
   "metadata": {
    "collapsed": false
   },
   "outputs": [],
   "source": [
    "# all_ages only contains the data for which age is not missing\n",
    "all_ages = titanic[titanic['Age'].notnull()]\n",
    "# make new dataframe ages_in_order which has ages arranged in order\n",
    "ages_in_order = all_ages.sort_values(by = 'Age', ascending = True)"
   ]
  },
  {
   "cell_type": "code",
   "execution_count": 14,
   "metadata": {
    "collapsed": false
   },
   "outputs": [],
   "source": [
    "# convert dataframe to list with each list item (a dictionary) representing a row\n",
    "ages_list = ages_in_order.to_dict('records')"
   ]
  },
  {
   "cell_type": "code",
   "execution_count": 15,
   "metadata": {
    "collapsed": false
   },
   "outputs": [],
   "source": [
    "ages_dic = {}"
   ]
  },
  {
   "cell_type": "code",
   "execution_count": 16,
   "metadata": {
    "collapsed": false
   },
   "outputs": [],
   "source": [
    "ages_dic['Age Range'] = ['0-5', '5-10', '10-15', '15-20', '20-25', '25-30', '30-35', '35-40', \\\n",
    "                         '40-45', '45-50', '50-55', '55-60', '60-65', '65-70', '70-75', '75-80', '80-85']"
   ]
  },
  {
   "cell_type": "code",
   "execution_count": 17,
   "metadata": {
    "collapsed": false
   },
   "outputs": [],
   "source": [
    "# make age ranges and distribute data accordingly in the range.\n",
    "ages_dic['Survived'] = [0, 0, 0, 0, 0, 0, 0, 0, 0, 0, 0, 0, 0, 0, 0, 0, 0]\n",
    "ages_dic['Number of People'] = [0, 0, 0, 0, 0, 0, 0, 0, 0, 0, 0, 0, 0, 0, 0, 0, 0]\n",
    "for dic in ages_list:\n",
    "    if dic['Age'] <= 5:\n",
    "        ages_dic['Number of People'][0] += 1\n",
    "        if dic['Survived'] == 1:\n",
    "            ages_dic['Survived'][0] += 1\n",
    "    elif dic['Age'] <= 10:\n",
    "        ages_dic['Number of People'][1] += 1\n",
    "        if dic['Survived'] == 1:\n",
    "            ages_dic['Survived'][1] += 1\n",
    "    elif dic['Age'] <= 15:\n",
    "        ages_dic['Number of People'][2] += 1\n",
    "        if dic['Survived'] == 1:\n",
    "            ages_dic['Survived'][2] += 1\n",
    "    elif dic['Age'] <= 20:\n",
    "        ages_dic['Number of People'][3] += 1\n",
    "        if dic['Survived'] == 1:\n",
    "            ages_dic['Survived'][3] += 1\n",
    "    elif dic['Age'] <= 25:\n",
    "        ages_dic['Number of People'][4] += 1\n",
    "        if dic['Survived'] == 1:\n",
    "            ages_dic['Survived'][4] += 1\n",
    "    elif dic['Age'] <= 30:\n",
    "        ages_dic['Number of People'][5] += 1\n",
    "        if dic['Survived'] == 1:\n",
    "            ages_dic['Survived'][5] += 1\n",
    "    elif dic['Age'] <= 35:\n",
    "        ages_dic['Number of People'][6] += 1\n",
    "        if dic['Survived'] == 1:\n",
    "            ages_dic['Survived'][6] += 1\n",
    "    elif dic['Age'] <= 40:\n",
    "        ages_dic['Number of People'][7] += 1\n",
    "        if dic['Survived'] == 1:\n",
    "            ages_dic['Survived'][7] += 1\n",
    "    elif dic['Age'] <= 45:\n",
    "        ages_dic['Number of People'][8] += 1\n",
    "        if dic['Survived'] == 1:\n",
    "            ages_dic['Survived'][8] += 1\n",
    "    elif dic['Age'] <= 50:\n",
    "        ages_dic['Number of People'][9] += 1\n",
    "        if dic['Survived'] == 1:\n",
    "            ages_dic['Survived'][9] += 1\n",
    "    elif dic['Age'] <= 55:\n",
    "        ages_dic['Number of People'][10] += 1\n",
    "        if dic['Survived'] == 1:\n",
    "            ages_dic['Survived'][10] += 1\n",
    "    elif dic['Age'] <= 60:\n",
    "        ages_dic['Number of People'][11] += 1\n",
    "        if dic['Survived'] == 1:\n",
    "            ages_dic['Survived'][11] += 1\n",
    "    elif dic['Age'] <= 65:\n",
    "        ages_dic['Number of People'][12] += 1\n",
    "        if dic['Survived'] == 1:\n",
    "            ages_dic['Survived'][12] += 1\n",
    "    elif dic['Age'] <= 70:\n",
    "        ages_dic['Number of People'][13] += 1\n",
    "        if dic['Survived'] == 1:\n",
    "            ages_dic['Survived'][13] += 1\n",
    "    elif dic['Age'] <= 75:\n",
    "        ages_dic['Number of People'][14] += 1\n",
    "        if dic['Survived'] == 1:\n",
    "            ages_dic['Survived'][14] += 1\n",
    "    elif dic['Age'] <= 80:\n",
    "        ages_dic['Number of People'][15] += 1\n",
    "        if dic['Survived'] == 1:\n",
    "            ages_dic['Survived'][15] += 1\n",
    "    elif dic['Age'] <= 85:\n",
    "        ages_dic['Number of People'][16] += 1\n",
    "        if dic['Survived'] == 1:\n",
    "            ages_dic['Survived'][16] += 1"
   ]
  },
  {
   "cell_type": "code",
   "execution_count": 18,
   "metadata": {
    "collapsed": false
   },
   "outputs": [],
   "source": [
    "# converting dictionary to dataframe\n",
    "df1 = pd.DataFrame(ages_dic)"
   ]
  },
  {
   "cell_type": "code",
   "execution_count": 19,
   "metadata": {
    "collapsed": false
   },
   "outputs": [],
   "source": [
    "# adding new column to df1\n",
    "df1['Proportion Survived'] = (df1['Survived']/df1['Number of People']).round(2)"
   ]
  },
  {
   "cell_type": "code",
   "execution_count": 20,
   "metadata": {
    "collapsed": false
   },
   "outputs": [
    {
     "data": {
      "text/html": [
       "<div>\n",
       "<table border=\"1\" class=\"dataframe\">\n",
       "  <thead>\n",
       "    <tr style=\"text-align: right;\">\n",
       "      <th></th>\n",
       "      <th>Age Range</th>\n",
       "      <th>Number of People</th>\n",
       "      <th>Survived</th>\n",
       "      <th>Proportion Survived</th>\n",
       "    </tr>\n",
       "  </thead>\n",
       "  <tbody>\n",
       "    <tr>\n",
       "      <th>0</th>\n",
       "      <td>0-5</td>\n",
       "      <td>44</td>\n",
       "      <td>31</td>\n",
       "      <td>0.70</td>\n",
       "    </tr>\n",
       "    <tr>\n",
       "      <th>1</th>\n",
       "      <td>5-10</td>\n",
       "      <td>20</td>\n",
       "      <td>7</td>\n",
       "      <td>0.35</td>\n",
       "    </tr>\n",
       "    <tr>\n",
       "      <th>2</th>\n",
       "      <td>10-15</td>\n",
       "      <td>19</td>\n",
       "      <td>11</td>\n",
       "      <td>0.58</td>\n",
       "    </tr>\n",
       "    <tr>\n",
       "      <th>3</th>\n",
       "      <td>15-20</td>\n",
       "      <td>96</td>\n",
       "      <td>33</td>\n",
       "      <td>0.34</td>\n",
       "    </tr>\n",
       "    <tr>\n",
       "      <th>4</th>\n",
       "      <td>20-25</td>\n",
       "      <td>122</td>\n",
       "      <td>42</td>\n",
       "      <td>0.34</td>\n",
       "    </tr>\n",
       "    <tr>\n",
       "      <th>5</th>\n",
       "      <td>25-30</td>\n",
       "      <td>108</td>\n",
       "      <td>42</td>\n",
       "      <td>0.39</td>\n",
       "    </tr>\n",
       "    <tr>\n",
       "      <th>6</th>\n",
       "      <td>30-35</td>\n",
       "      <td>88</td>\n",
       "      <td>41</td>\n",
       "      <td>0.47</td>\n",
       "    </tr>\n",
       "    <tr>\n",
       "      <th>7</th>\n",
       "      <td>35-40</td>\n",
       "      <td>67</td>\n",
       "      <td>28</td>\n",
       "      <td>0.42</td>\n",
       "    </tr>\n",
       "    <tr>\n",
       "      <th>8</th>\n",
       "      <td>40-45</td>\n",
       "      <td>47</td>\n",
       "      <td>17</td>\n",
       "      <td>0.36</td>\n",
       "    </tr>\n",
       "    <tr>\n",
       "      <th>9</th>\n",
       "      <td>45-50</td>\n",
       "      <td>39</td>\n",
       "      <td>16</td>\n",
       "      <td>0.41</td>\n",
       "    </tr>\n",
       "    <tr>\n",
       "      <th>10</th>\n",
       "      <td>50-55</td>\n",
       "      <td>24</td>\n",
       "      <td>10</td>\n",
       "      <td>0.42</td>\n",
       "    </tr>\n",
       "    <tr>\n",
       "      <th>11</th>\n",
       "      <td>55-60</td>\n",
       "      <td>18</td>\n",
       "      <td>7</td>\n",
       "      <td>0.39</td>\n",
       "    </tr>\n",
       "    <tr>\n",
       "      <th>12</th>\n",
       "      <td>60-65</td>\n",
       "      <td>14</td>\n",
       "      <td>4</td>\n",
       "      <td>0.29</td>\n",
       "    </tr>\n",
       "    <tr>\n",
       "      <th>13</th>\n",
       "      <td>65-70</td>\n",
       "      <td>3</td>\n",
       "      <td>0</td>\n",
       "      <td>0.00</td>\n",
       "    </tr>\n",
       "    <tr>\n",
       "      <th>14</th>\n",
       "      <td>70-75</td>\n",
       "      <td>4</td>\n",
       "      <td>0</td>\n",
       "      <td>0.00</td>\n",
       "    </tr>\n",
       "    <tr>\n",
       "      <th>15</th>\n",
       "      <td>75-80</td>\n",
       "      <td>1</td>\n",
       "      <td>1</td>\n",
       "      <td>1.00</td>\n",
       "    </tr>\n",
       "  </tbody>\n",
       "</table>\n",
       "</div>"
      ],
      "text/plain": [
       "   Age Range  Number of People  Survived  Proportion Survived\n",
       "0        0-5                44        31                 0.70\n",
       "1       5-10                20         7                 0.35\n",
       "2      10-15                19        11                 0.58\n",
       "3      15-20                96        33                 0.34\n",
       "4      20-25               122        42                 0.34\n",
       "5      25-30               108        42                 0.39\n",
       "6      30-35                88        41                 0.47\n",
       "7      35-40                67        28                 0.42\n",
       "8      40-45                47        17                 0.36\n",
       "9      45-50                39        16                 0.41\n",
       "10     50-55                24        10                 0.42\n",
       "11     55-60                18         7                 0.39\n",
       "12     60-65                14         4                 0.29\n",
       "13     65-70                 3         0                 0.00\n",
       "14     70-75                 4         0                 0.00\n",
       "15     75-80                 1         1                 1.00"
      ]
     },
     "execution_count": 20,
     "metadata": {},
     "output_type": "execute_result"
    }
   ],
   "source": [
    "df1.iloc[:-1]"
   ]
  },
  {
   "cell_type": "code",
   "execution_count": 21,
   "metadata": {
    "collapsed": false
   },
   "outputs": [
    {
     "name": "stdout",
     "output_type": "stream",
     "text": [
      "3\n",
      "2\n",
      "3\n",
      "2\n",
      "2\n",
      "2\n",
      "3\n",
      "16\n",
      "4\n",
      "0\n"
     ]
    }
   ],
   "source": [
    "emp = []\n",
    "for dic in titanic_list:\n",
    "    if dic['Age'] <= 10 and dic['Age'] > 5:\n",
    "        emp.append(dic['Pclass'])\n",
    "        if dic['Survived'] == 1:\n",
    "            print dic['Pclass']\n",
    "print emp.count(3)\n",
    "print emp.count(2)\n",
    "print emp.count(1)"
   ]
  },
  {
   "cell_type": "code",
   "execution_count": 22,
   "metadata": {
    "collapsed": false
   },
   "outputs": [
    {
     "name": "stdout",
     "output_type": "stream",
     "text": [
      "2\n",
      "3\n",
      "3\n",
      "3\n",
      "1\n",
      "2\n",
      "1\n",
      "3\n",
      "1\n",
      "3\n",
      "3\n",
      "14\n",
      "2\n",
      "3\n"
     ]
    }
   ],
   "source": [
    "emp2 = []\n",
    "for dic in titanic_list:\n",
    "    if dic['Age'] <= 15 and dic['Age'] > 10:        \n",
    "        emp2.append(dic['Pclass'])\n",
    "        if dic['Survived'] == 1:\n",
    "            print dic['Pclass']\n",
    "print emp2.count(3)\n",
    "print emp2.count(2)\n",
    "print emp2.count(1)"
   ]
  },
  {
   "cell_type": "code",
   "execution_count": 23,
   "metadata": {
    "collapsed": false
   },
   "outputs": [
    {
     "name": "stderr",
     "output_type": "stream",
     "text": [
      "D:\\Anaconda2\\lib\\site-packages\\ipykernel\\__main__.py:3: SettingWithCopyWarning: \n",
      "A value is trying to be set on a copy of a slice from a DataFrame.\n",
      "Try using .loc[row_indexer,col_indexer] = value instead\n",
      "\n",
      "See the caveats in the documentation: http://pandas.pydata.org/pandas-docs/stable/indexing.html#indexing-view-versus-copy\n",
      "  app.launch_new_instance()\n"
     ]
    }
   ],
   "source": [
    "xy = titanic\n",
    "xy = xy[xy.columns.difference(['Parch', 'Fare', 'SibSp', 'Embarked', 'Ticket', 'Cabin', 'PassengerId', 'Sex', 'Name', 'Pclass'])]\n",
    "xy['Survived1'] = xy['Survived']\n",
    "xy = xy[xy.columns.difference(['Survived'])]\n",
    "xy['Survived'] = xy['Age']\n",
    "xy = xy[xy.columns.difference(['Age'])]"
   ]
  },
  {
   "cell_type": "code",
   "execution_count": 24,
   "metadata": {
    "collapsed": true
   },
   "outputs": [],
   "source": [
    "yz = titanic\n",
    "yz['Total'] = yz['Age']"
   ]
  },
  {
   "cell_type": "code",
   "execution_count": 25,
   "metadata": {
    "collapsed": false
   },
   "outputs": [
    {
     "data": {
      "text/plain": [
       "<matplotlib.text.Text at 0xa9610f0>"
      ]
     },
     "execution_count": 25,
     "metadata": {},
     "output_type": "execute_result"
    },
    {
     "data": {
      "image/png": "[encoded data removed]",
      "text/plain": [
       "<matplotlib.figure.Figure at 0x9f72c50>"
      ]
     },
     "metadata": {},
     "output_type": "display_data"
    }
   ],
   "source": [
    "yz['Total'].plot.hist(bins= 16, color = (1, 0, 0), alpha = 0.8, legend = True)\n",
    "xy[xy.Survived1 == 1]['Survived'].plot.hist(bins = 16, color = 'y', legend = True, alpha = 0.8)\n",
    "plt.xlabel('Age'); plt.ylabel('Frequency')\n",
    "plt.title('Survival among different age groups')"
   ]
  },
  {
   "cell_type": "markdown",
   "metadata": {},
   "source": [
    "## Approximating missing ages"
   ]
  },
  {
   "cell_type": "code",
   "execution_count": 26,
   "metadata": {
    "collapsed": false
   },
   "outputs": [
    {
     "data": {
      "text/plain": [
       "177"
      ]
     },
     "execution_count": 26,
     "metadata": {},
     "output_type": "execute_result"
    }
   ],
   "source": [
    "#calculate the number of missing ages\n",
    "titanic.Age.isnull().sum()"
   ]
  },
  {
   "cell_type": "code",
   "execution_count": 27,
   "metadata": {
    "collapsed": false
   },
   "outputs": [
    {
     "name": "stdout",
     "output_type": "stream",
     "text": [
      "146\n",
      "110\n",
      "398\n",
      "36\n",
      "6\n"
     ]
    }
   ],
   "source": [
    "# segregate ages of people with respect to honorifics (Mr., Mrs., Miss, etc.)\n",
    "miss = []\n",
    "mrs = []\n",
    "mr = []\n",
    "master = []\n",
    "doc = []\n",
    "for dic in titanic_list:\n",
    "    if 'Miss' in dic['Name'] and dic['Sex'] == 'female' and str(dic['Age']) != 'nan':\n",
    "        miss.append(dic['Age'])\n",
    "    elif 'Mrs' in dic['Name'] and dic['Sex'] == 'female' and str(dic['Age']) != 'nan':\n",
    "        mrs.append(dic['Age'])\n",
    "    elif 'Dr.' in dic['Name'] and str(dic['Age']) != 'nan':\n",
    "        doc.append(dic['Age'])\n",
    "    elif 'Mr.' in dic['Name'] and dic['Sex'] == 'male' and str(dic['Age']) != 'nan':\n",
    "        mr.append(dic['Age'])\n",
    "    elif 'Master' in dic['Name'] and dic['Sex'] == 'male' and str(dic['Age']) != 'nan':\n",
    "        master.append(dic['Age'])\n",
    "print len(miss)\n",
    "print len(mrs)\n",
    "print len(mr)\n",
    "print len(master)\n",
    "print len(doc)"
   ]
  },
  {
   "cell_type": "code",
   "execution_count": 28,
   "metadata": {
    "collapsed": false
   },
   "outputs": [
    {
     "name": "stdout",
     "output_type": "stream",
     "text": [
      "21.0\n",
      "35.0\n",
      "30.0\n",
      "3.5\n",
      "46.5\n"
     ]
    }
   ],
   "source": [
    "# calculate the median ages of people with different holorifics\n",
    "print median(miss)\n",
    "print median(mrs)\n",
    "print median(mr)\n",
    "print median(master)\n",
    "print median(doc)"
   ]
  },
  {
   "cell_type": "code",
   "execution_count": 29,
   "metadata": {
    "collapsed": false
   },
   "outputs": [],
   "source": [
    "# approximate the missing ages of people based on their holorifics\n",
    "for dic in titanic_list:\n",
    "    if 'Miss' in dic['Name'] and dic['Sex'] == 'female' and str(dic['Age']) == 'nan':\n",
    "        dic['Age'] = median(miss)\n",
    "    elif 'Mrs' in dic['Name'] and dic['Sex'] == 'female' and str(dic['Age']) == 'nan':\n",
    "        \n",
    "        dic['Age'] = median(mrs)\n",
    "    elif 'Mr.' in dic['Name'] and dic['Sex'] == 'male' and str(dic['Age']) == 'nan':\n",
    "        dic['Age'] = median(mr)\n",
    "    elif 'Master' in dic['Name'] and dic['Sex'] == 'male' and str(dic['Age']) == 'nan':\n",
    "        dic['Age'] = median(master)\n",
    "    elif 'Dr.' in dic['Name'] and dic['Sex'] == 'male' and str(dic['Age']) == 'nan':\n",
    "        dic['Age'] = median(doc)"
   ]
  },
  {
   "cell_type": "code",
   "execution_count": 30,
   "metadata": {
    "collapsed": false
   },
   "outputs": [
    {
     "data": {
      "text/plain": [
       "<matplotlib.axes._subplots.AxesSubplot at 0x9e3afd0>"
      ]
     },
     "execution_count": 30,
     "metadata": {},
     "output_type": "execute_result"
    },
    {
     "data": {
      "image/png": "[encoded data removed]",
      "text/plain": [
       "<matplotlib.figure.Figure at 0xaafd630>"
      ]
     },
     "metadata": {},
     "output_type": "display_data"
    }
   ],
   "source": [
    "semi_comp = pd.DataFrame(titanic_list)\n",
    "semi_comp['Age'].hist(bins = 16)"
   ]
  },
  {
   "cell_type": "markdown",
   "metadata": {},
   "source": [
    "## Analysing 'Embarked' Data"
   ]
  },
  {
   "cell_type": "code",
   "execution_count": 31,
   "metadata": {
    "collapsed": false
   },
   "outputs": [
    {
     "name": "stdout",
     "output_type": "stream",
     "text": [
      "644\n",
      "77\n",
      "168\n"
     ]
    }
   ],
   "source": [
    "# finding the number of people who embarked from S, Q and C.\n",
    "print titanic['Embarked'].tolist().count('S')\n",
    "print titanic['Embarked'].tolist().count('Q')\n",
    "print titanic['Embarked'].tolist().count('C')"
   ]
  },
  {
   "cell_type": "code",
   "execution_count": 32,
   "metadata": {
    "collapsed": false
   },
   "outputs": [],
   "source": [
    "# grouping data on the basis of port of embarkation and adding new columns.\n",
    "embark = titanic.groupby('Embarked').sum()\n",
    "embark = embark[embark.columns.difference(['PassengerId', 'Age', 'Fare', 'Parch', 'Pclass', 'SibSp'])]\n",
    "embark['Number of People'] = [168, 77, 644]\n",
    "embark['Proportion Survived'] = [93/168., 30./77, 217./644]"
   ]
  },
  {
   "cell_type": "code",
   "execution_count": 33,
   "metadata": {
    "collapsed": false
   },
   "outputs": [],
   "source": [
    "embark = pd.DataFrame(embark.round(2))\n",
    "embark = embark[['Number of People', 'Survived', 'Proportion Survived']]\n",
    "embark"
   ]
  },
  {
   "cell_type": "markdown",
   "metadata": {},
   "source": [
    "### From the above dataframe, we find that the survival rate of people is maximum for those whose embarkation port was C"
   ]
  },
  {
   "cell_type": "code",
   "execution_count": 34,
   "metadata": {
    "collapsed": true
   },
   "outputs": [],
   "source": [
    "s_fares = []\n",
    "q_fares = []\n",
    "c_fares = []\n",
    "for dic in titanic_list:\n",
    "    if dic['Embarked'] == 'C':\n",
    "        c_fares.append(dic['Fare'])\n",
    "    elif dic['Embarked'] == 'Q':\n",
    "        q_fares.append(dic['Fare'])\n",
    "    elif dic['Embarked'] == 'S':\n",
    "        s_fares.append(dic['Fare'])"
   ]
  },
  {
   "cell_type": "markdown",
   "metadata": {},
   "source": [
    "### Below we find that the mean fare for the embarkation port C is highest."
   ]
  },
  {
   "cell_type": "code",
   "execution_count": 35,
   "metadata": {
    "collapsed": false
   },
   "outputs": [
    {
     "name": "stdout",
     "output_type": "stream",
     "text": [
      "59.9541440476\n",
      "13.2760298701\n",
      "27.0798118012\n"
     ]
    }
   ],
   "source": [
    "print mean(c_fares)\n",
    "print mean(q_fares)\n",
    "print mean(s_fares)"
   ]
  },
  {
   "cell_type": "code",
   "execution_count": 36,
   "metadata": {
    "collapsed": false
   },
   "outputs": [
    {
     "data": {
      "text/html": [
       "<div>\n",
       "<table border=\"1\" class=\"dataframe\">\n",
       "  <thead>\n",
       "    <tr style=\"text-align: right;\">\n",
       "      <th></th>\n",
       "      <th>Mean Fare</th>\n",
       "      <th>Number of People</th>\n",
       "      <th>Survived</th>\n",
       "      <th>Proportion Survived</th>\n",
       "    </tr>\n",
       "    <tr>\n",
       "      <th>Embarked</th>\n",
       "      <th></th>\n",
       "      <th></th>\n",
       "      <th></th>\n",
       "      <th></th>\n",
       "    </tr>\n",
       "  </thead>\n",
       "  <tbody>\n",
       "    <tr>\n",
       "      <th>C</th>\n",
       "      <td>59.95</td>\n",
       "      <td>168</td>\n",
       "      <td>93</td>\n",
       "      <td>0.55</td>\n",
       "    </tr>\n",
       "    <tr>\n",
       "      <th>Q</th>\n",
       "      <td>13.28</td>\n",
       "      <td>77</td>\n",
       "      <td>30</td>\n",
       "      <td>0.39</td>\n",
       "    </tr>\n",
       "    <tr>\n",
       "      <th>S</th>\n",
       "      <td>27.08</td>\n",
       "      <td>644</td>\n",
       "      <td>217</td>\n",
       "      <td>0.34</td>\n",
       "    </tr>\n",
       "  </tbody>\n",
       "</table>\n",
       "</div>"
      ],
      "text/plain": [
       "          Mean Fare  Number of People  Survived  Proportion Survived\n",
       "Embarked                                                            \n",
       "C             59.95               168        93                 0.55\n",
       "Q             13.28                77        30                 0.39\n",
       "S             27.08               644       217                 0.34"
      ]
     },
     "execution_count": 36,
     "metadata": {},
     "output_type": "execute_result"
    }
   ],
   "source": [
    "embark['Mean Fare'] = [mean(c_fares), mean(q_fares), mean(s_fares)]\n",
    "embark = pd.DataFrame(embark.round(2))\n",
    "embark = embark[['Mean Fare', 'Number of People', 'Survived', 'Proportion Survived']]\n",
    "embark"
   ]
  },
  {
   "cell_type": "code",
   "execution_count": 37,
   "metadata": {
    "collapsed": false
   },
   "outputs": [
    {
     "data": {
      "text/plain": [
       "(array([0, 1, 2]), <a list of 3 Text xticklabel objects>)"
      ]
     },
     "execution_count": 37,
     "metadata": {},
     "output_type": "execute_result"
    },
    {
     "data": {
      "image/png": "[encoded data removed]",
      "text/plain": [
       "<matplotlib.figure.Figure at 0x9f65400>"
      ]
     },
     "metadata": {},
     "output_type": "display_data"
    }
   ],
   "source": [
    "embark['Mean Fare'].plot.bar(title = 'Mean Fare of different Ports', color = (0.2, 0.7, 0.1))\n",
    "plt.ylabel('Fare')\n",
    "plt.xticks(rotation = 0)"
   ]
  },
  {
   "cell_type": "markdown",
   "metadata": {},
   "source": [
    "### This suggests that richer people had more chances of survival "
   ]
  },
  {
   "cell_type": "markdown",
   "metadata": {},
   "source": [
    "## Approximating missing 'Embarked' values"
   ]
  },
  {
   "cell_type": "code",
   "execution_count": 38,
   "metadata": {
    "collapsed": false
   },
   "outputs": [
    {
     "data": {
      "text/plain": [
       "2"
      ]
     },
     "execution_count": 38,
     "metadata": {},
     "output_type": "execute_result"
    }
   ],
   "source": [
    "titanic.Embarked.tolist().count(NaN)"
   ]
  },
  {
   "cell_type": "code",
   "execution_count": 39,
   "metadata": {
    "collapsed": false
   },
   "outputs": [
    {
     "name": "stdout",
     "output_type": "stream",
     "text": [
      "Icard, Miss. Amelie\n",
      "Stone, Mrs. George Nelson (Martha Evelyn)\n"
     ]
    }
   ],
   "source": [
    "# finding out the names for which the 'Embarked' value is missing.\n",
    "for dic in titanic_list:\n",
    "    if str(dic['Embarked']) == 'nan':\n",
    "        print dic['Name']"
   ]
  },
  {
   "cell_type": "code",
   "execution_count": 40,
   "metadata": {
    "collapsed": true
   },
   "outputs": [],
   "source": [
    "s1 = []\n",
    "s2 = []\n",
    "s3 = []\n",
    "c1 = []\n",
    "c2 = []\n",
    "c3 = []\n",
    "q1 = []\n",
    "q2 = []\n",
    "q3 = []\n",
    "for dic in titanic_list:\n",
    "    if dic['Embarked'] == 'S':\n",
    "        if dic['Pclass'] == 1:\n",
    "            s1.append(dic['Fare'])\n",
    "        elif dic['Pclass'] == 2:\n",
    "            s2.append(dic['Fare'])\n",
    "        else:\n",
    "            s3.append(dic['Fare'])\n",
    "    elif dic['Embarked'] == 'C':\n",
    "        if dic['Pclass'] == 1:\n",
    "            c1.append(dic['Fare'])\n",
    "        elif dic['Pclass'] == 2:\n",
    "            c2.append(dic['Fare'])\n",
    "        else:\n",
    "            c3.append(dic['Fare'])\n",
    "    elif dic['Embarked'] == 'Q':\n",
    "        if dic['Pclass'] == 1:\n",
    "            q1.append(dic['Fare'])\n",
    "        elif dic['Pclass'] == 2:\n",
    "            q2.append(dic['Fare'])\n",
    "        else:\n",
    "            q3.append(dic['Fare'])"
   ]
  },
  {
   "cell_type": "code",
   "execution_count": 41,
   "metadata": {
    "collapsed": false
   },
   "outputs": [],
   "source": [
    "for dic in titanic_list:\n",
    "    if str(dic['Embarked']) == 'nan':\n",
    "        if dic['Pclass'] == 1:\n",
    "            if abs(dic['Fare']-median(s1)) == min(abs(dic['Fare']-median(s1)), abs(dic['Fare']-median(c1)), abs(dic['Fare']-median(q1))):\n",
    "                dic['Embarked'] = 'S'\n",
    "            elif abs(dic['Fare']-median(c1)) == min(abs(dic['Fare']-median(s1)), abs(dic['Fare']-median(c1)), abs(dic['Fare']-median(q1))):\n",
    "                dic['Embarked'] = 'C'\n",
    "            elif abs(dic['Fare']-median(q1)) == min(abs(dic['Fare']-median(s1)), abs(dic['Fare']-median(c1)), abs(dic['Fare']-median(q1))):\n",
    "                dic['Embarked'] = 'Q'\n",
    "        elif dic['Pclass'] == 2:\n",
    "            if abs(dic['Fare']-median(s2)) == min(abs(dic['Fare']-median(s2)), abs(dic['Fare']-median(c2)), abs(dic['Fare']-median(q2))):\n",
    "                dic['Embarked'] = 'S'\n",
    "            elif abs(dic['Fare']-median(c2)) == min(abs(dic['Fare']-median(s2)), abs(dic['Fare']-median(c2)), abs(dic['Fare']-median(q2))):\n",
    "                dic['Embarked'] = 'C'\n",
    "            elif abs(dic['Fare']-median(q2)) == min(abs(dic['Fare']-median(s2)), abs(dic['Fare']-median(c2)), abs(dic['Fare']-median(q2))):\n",
    "                dic['Embarked'] = 'Q'\n",
    "        else:\n",
    "            if abs(dic['Fare']-median(s3)) == min(abs(dic['Fare']-median(s3)), abs(dic['Fare']-median(c3)), abs(dic['Fare']-median(q3))):\n",
    "                dic['Embarekd'] = 'S'\n",
    "            elif abs(dic['Fare']-median(c3)) == min(abs(dic['Fare']-median(s3)), abs(dic['Fare']-median(c3)), abs(dic['Fare']-median(q3))):\n",
    "                dic['Embarekd'] = 'C'\n",
    "            elif abs(dic['Fare']-median(q3)) == min(abs(dic['Fare']-median(s3)), abs(dic['Fare']-median(c3)), abs(dic['Fare']-median(q3))):\n",
    "                dic['Embarekd'] = 'Q'"
   ]
  },
  {
   "cell_type": "code",
   "execution_count": 42,
   "metadata": {
    "collapsed": true
   },
   "outputs": [],
   "source": [
    "for dic in titanic_list:\n",
    "    if str(dic['Embarked']) == 'nan':\n",
    "        print dic['Name']"
   ]
  },
  {
   "cell_type": "code",
   "execution_count": 43,
   "metadata": {
    "collapsed": false
   },
   "outputs": [
    {
     "name": "stdout",
     "output_type": "stream",
     "text": [
      "52.0\n",
      "13.5\n",
      "8.05\n",
      "78.2667\n",
      "24.0\n",
      "7.8958\n",
      "90.0\n",
      "12.35\n",
      "7.75\n"
     ]
    }
   ],
   "source": [
    "print median(s1)\n",
    "print median(s2)\n",
    "print median(s3)\n",
    "print median(c1)\n",
    "print median(c2)\n",
    "print median(c3)\n",
    "print median(q1)\n",
    "print median(q2)\n",
    "print median(q3)"
   ]
  },
  {
   "cell_type": "code",
   "execution_count": 44,
   "metadata": {
    "collapsed": false
   },
   "outputs": [
    {
     "data": {
      "text/plain": [
       "Embarked\n",
       "C    59.954144\n",
       "Q    13.276030\n",
       "S    27.079812\n",
       "Name: Fare, dtype: float64"
      ]
     },
     "execution_count": 44,
     "metadata": {},
     "output_type": "execute_result"
    }
   ],
   "source": [
    "titanic.groupby('Embarked').mean()['Fare']"
   ]
  },
  {
   "cell_type": "code",
   "execution_count": 45,
   "metadata": {
    "collapsed": false
   },
   "outputs": [
    {
     "data": {
      "text/plain": [
       "'C'"
      ]
     },
     "execution_count": 45,
     "metadata": {},
     "output_type": "execute_result"
    }
   ],
   "source": [
    "pd.DataFrame(titanic_list).loc[829, 'Embarked']"
   ]
  },
  {
   "cell_type": "code",
   "execution_count": 46,
   "metadata": {
    "collapsed": false
   },
   "outputs": [],
   "source": [
    "# making new dataframe where the missing values have been approximated\n",
    "complete_data = pd.DataFrame(titanic_list)\n",
    "complete_data = complete_data[['PassengerId', 'Survived', 'Pclass', 'Name', 'Sex', 'Age', 'SibSp', 'Parch', 'Ticket', 'Fare', \\\n",
    "                              'Cabin', 'Embarked']]"
   ]
  },
  {
   "cell_type": "code",
   "execution_count": 47,
   "metadata": {
    "collapsed": false
   },
   "outputs": [],
   "source": [
    "complete_data.to_csv('complete_data.csv')"
   ]
  }
 ],
 "metadata": {
  "kernelspec": {
   "display_name": "Python 2",
   "language": "python",
   "name": "python2"
  },
  "language_info": {
   "codemirror_mode": {
    "name": "ipython",
    "version": 2
   },
   "file_extension": ".py",
   "mimetype": "text/x-python",
   "name": "python",
   "nbconvert_exporter": "python",
   "pygments_lexer": "ipython2",
   "version": "2.7.11"
  }
 },
 "nbformat": 4,
 "nbformat_minor": 0
}
